{
 "cells": [
  {
   "cell_type": "markdown",
   "metadata": {},
   "source": [
    "## Выбрать данные"
   ]
  },
  {
   "cell_type": "markdown",
   "metadata": {},
   "source": [
    "Откроем файл из прошлого ДЗ (список друзей ВК)"
   ]
  },
  {
   "cell_type": "code",
   "execution_count": 329,
   "metadata": {},
   "outputs": [
    {
     "data": {
      "text/html": [
       "<div>\n",
       "<style scoped>\n",
       "    .dataframe tbody tr th:only-of-type {\n",
       "        vertical-align: middle;\n",
       "    }\n",
       "\n",
       "    .dataframe tbody tr th {\n",
       "        vertical-align: top;\n",
       "    }\n",
       "\n",
       "    .dataframe thead th {\n",
       "        text-align: right;\n",
       "    }\n",
       "</style>\n",
       "<table border=\"1\" class=\"dataframe\">\n",
       "  <thead>\n",
       "    <tr style=\"text-align: right;\">\n",
       "      <th></th>\n",
       "      <th>bdate</th>\n",
       "      <th>city</th>\n",
       "      <th>country</th>\n",
       "      <th>deactivated</th>\n",
       "      <th>domain</th>\n",
       "      <th>education_form</th>\n",
       "      <th>education_status</th>\n",
       "      <th>faculty</th>\n",
       "      <th>faculty_name</th>\n",
       "      <th>first_name</th>\n",
       "      <th>...</th>\n",
       "      <th>relation</th>\n",
       "      <th>relation_partner</th>\n",
       "      <th>sex</th>\n",
       "      <th>status</th>\n",
       "      <th>status_audio</th>\n",
       "      <th>uid</th>\n",
       "      <th>universities</th>\n",
       "      <th>university</th>\n",
       "      <th>university_name</th>\n",
       "      <th>user_id</th>\n",
       "    </tr>\n",
       "  </thead>\n",
       "  <tbody>\n",
       "    <tr>\n",
       "      <th>0</th>\n",
       "      <td>22.12</td>\n",
       "      <td>2.0</td>\n",
       "      <td>1.0</td>\n",
       "      <td>NaN</td>\n",
       "      <td>denis_leonidovich</td>\n",
       "      <td>NaN</td>\n",
       "      <td>NaN</td>\n",
       "      <td>NaN</td>\n",
       "      <td>NaN</td>\n",
       "      <td>Denis</td>\n",
       "      <td>...</td>\n",
       "      <td>NaN</td>\n",
       "      <td>NaN</td>\n",
       "      <td>2</td>\n",
       "      <td>Мечтайте так, как будто вам жить вечно. Живите...</td>\n",
       "      <td>NaN</td>\n",
       "      <td>2885</td>\n",
       "      <td>NaN</td>\n",
       "      <td>NaN</td>\n",
       "      <td>NaN</td>\n",
       "      <td>2885</td>\n",
       "    </tr>\n",
       "    <tr>\n",
       "      <th>1</th>\n",
       "      <td>7.2</td>\n",
       "      <td>138.0</td>\n",
       "      <td>1.0</td>\n",
       "      <td>NaN</td>\n",
       "      <td>anechka_bulatova</td>\n",
       "      <td>NaN</td>\n",
       "      <td>NaN</td>\n",
       "      <td>NaN</td>\n",
       "      <td>NaN</td>\n",
       "      <td>Anna</td>\n",
       "      <td>...</td>\n",
       "      <td>NaN</td>\n",
       "      <td>NaN</td>\n",
       "      <td>1</td>\n",
       "      <td>NaN</td>\n",
       "      <td>NaN</td>\n",
       "      <td>28269</td>\n",
       "      <td>NaN</td>\n",
       "      <td>NaN</td>\n",
       "      <td>NaN</td>\n",
       "      <td>28269</td>\n",
       "    </tr>\n",
       "    <tr>\n",
       "      <th>2</th>\n",
       "      <td>19.2.1987</td>\n",
       "      <td>138.0</td>\n",
       "      <td>1.0</td>\n",
       "      <td>NaN</td>\n",
       "      <td>id40338</td>\n",
       "      <td>NaN</td>\n",
       "      <td>NaN</td>\n",
       "      <td>NaN</td>\n",
       "      <td>NaN</td>\n",
       "      <td>Alexandra</td>\n",
       "      <td>...</td>\n",
       "      <td>NaN</td>\n",
       "      <td>NaN</td>\n",
       "      <td>1</td>\n",
       "      <td>NaN</td>\n",
       "      <td>NaN</td>\n",
       "      <td>40338</td>\n",
       "      <td>NaN</td>\n",
       "      <td>NaN</td>\n",
       "      <td>NaN</td>\n",
       "      <td>40338</td>\n",
       "    </tr>\n",
       "    <tr>\n",
       "      <th>3</th>\n",
       "      <td>20.11.1986</td>\n",
       "      <td>2.0</td>\n",
       "      <td>1.0</td>\n",
       "      <td>NaN</td>\n",
       "      <td>yana_ring</td>\n",
       "      <td>NaN</td>\n",
       "      <td>NaN</td>\n",
       "      <td>341.0</td>\n",
       "      <td>Факультет социальных технологий</td>\n",
       "      <td>Yana</td>\n",
       "      <td>...</td>\n",
       "      <td>4.0</td>\n",
       "      <td>{'id': 3314750, 'first_name': 'Dmitry', 'last_...</td>\n",
       "      <td>1</td>\n",
       "      <td>NaN</td>\n",
       "      <td>NaN</td>\n",
       "      <td>54645</td>\n",
       "      <td>[{'id': 81, 'country': 1, 'city': 2, 'name': '...</td>\n",
       "      <td>81.0</td>\n",
       "      <td>СЗИУ РАНХиГС (бывш. СЗАГС)</td>\n",
       "      <td>54645</td>\n",
       "    </tr>\n",
       "    <tr>\n",
       "      <th>4</th>\n",
       "      <td>21.12.1985</td>\n",
       "      <td>138.0</td>\n",
       "      <td>1.0</td>\n",
       "      <td>NaN</td>\n",
       "      <td>vtyurin_nikita</td>\n",
       "      <td>NaN</td>\n",
       "      <td>NaN</td>\n",
       "      <td>NaN</td>\n",
       "      <td>NaN</td>\n",
       "      <td>Nikita</td>\n",
       "      <td>...</td>\n",
       "      <td>NaN</td>\n",
       "      <td>NaN</td>\n",
       "      <td>2</td>\n",
       "      <td>NaN</td>\n",
       "      <td>NaN</td>\n",
       "      <td>58194</td>\n",
       "      <td>NaN</td>\n",
       "      <td>NaN</td>\n",
       "      <td>NaN</td>\n",
       "      <td>58194</td>\n",
       "    </tr>\n",
       "  </tbody>\n",
       "</table>\n",
       "<p>5 rows × 29 columns</p>\n",
       "</div>"
      ],
      "text/plain": [
       "        bdate   city  country deactivated             domain education_form  \\\n",
       "0       22.12    2.0      1.0         NaN  denis_leonidovich            NaN   \n",
       "1         7.2  138.0      1.0         NaN   anechka_bulatova            NaN   \n",
       "2   19.2.1987  138.0      1.0         NaN            id40338            NaN   \n",
       "3  20.11.1986    2.0      1.0         NaN          yana_ring            NaN   \n",
       "4  21.12.1985  138.0      1.0         NaN     vtyurin_nikita            NaN   \n",
       "\n",
       "  education_status  faculty                     faculty_name first_name  \\\n",
       "0              NaN      NaN                              NaN      Denis   \n",
       "1              NaN      NaN                              NaN       Anna   \n",
       "2              NaN      NaN                              NaN  Alexandra   \n",
       "3              NaN    341.0  Факультет социальных технологий       Yana   \n",
       "4              NaN      NaN                              NaN     Nikita   \n",
       "\n",
       "    ...     relation                                   relation_partner  sex  \\\n",
       "0   ...          NaN                                                NaN    2   \n",
       "1   ...          NaN                                                NaN    1   \n",
       "2   ...          NaN                                                NaN    1   \n",
       "3   ...          4.0  {'id': 3314750, 'first_name': 'Dmitry', 'last_...    1   \n",
       "4   ...          NaN                                                NaN    2   \n",
       "\n",
       "                                              status status_audio    uid  \\\n",
       "0  Мечтайте так, как будто вам жить вечно. Живите...          NaN   2885   \n",
       "1                                                NaN          NaN  28269   \n",
       "2                                                NaN          NaN  40338   \n",
       "3                                                NaN          NaN  54645   \n",
       "4                                                NaN          NaN  58194   \n",
       "\n",
       "                                        universities  university  \\\n",
       "0                                                NaN         NaN   \n",
       "1                                                NaN         NaN   \n",
       "2                                                NaN         NaN   \n",
       "3  [{'id': 81, 'country': 1, 'city': 2, 'name': '...        81.0   \n",
       "4                                                NaN         NaN   \n",
       "\n",
       "              university_name  user_id  \n",
       "0                         NaN     2885  \n",
       "1                         NaN    28269  \n",
       "2                         NaN    40338  \n",
       "3  СЗИУ РАНХиГС (бывш. СЗАГС)    54645  \n",
       "4                         NaN    58194  \n",
       "\n",
       "[5 rows x 29 columns]"
      ]
     },
     "execution_count": 329,
     "metadata": {},
     "output_type": "execute_result"
    }
   ],
   "source": [
    "import pandas as pd\n",
    "import numpy as np\n",
    "import matplotlib.pyplot as plt\n",
    "%matplotlib inline\n",
    "\n",
    "df = pd.read_csv('friends.csv', index_col=[0])\n",
    "df.head()"
   ]
  },
  {
   "cell_type": "markdown",
   "metadata": {},
   "source": [
    "## Составить список вопросов, по которым хотелось бы получить ответ в виде графиков"
   ]
  },
  {
   "cell_type": "markdown",
   "metadata": {},
   "source": [
    "1. Процентное соотношение мужчин и женщин\n",
    "2. Распределение по возрасту\n",
    "3. Процентное соотношение онлайн и оффлайн\n",
    "4. Процентное соотношение женатых (замужних) и не женатых (не замужних)\n",
    "5. Распределение по странам"
   ]
  },
  {
   "cell_type": "code",
   "execution_count": 330,
   "metadata": {},
   "outputs": [
    {
     "data": {
      "text/plain": [
       "Index(['bdate', 'city', 'country', 'deactivated', 'domain', 'education_form',\n",
       "       'education_status', 'faculty', 'faculty_name', 'first_name',\n",
       "       'graduation', 'has_mobile', 'hidden', 'home_phone', 'last_name',\n",
       "       'last_seen', 'online', 'online_app', 'online_mobile', 'relation',\n",
       "       'relation_partner', 'sex', 'status', 'status_audio', 'uid',\n",
       "       'universities', 'university', 'university_name', 'user_id'],\n",
       "      dtype='object')"
      ]
     },
     "execution_count": 330,
     "metadata": {},
     "output_type": "execute_result"
    }
   ],
   "source": [
    "df.columns"
   ]
  },
  {
   "cell_type": "markdown",
   "metadata": {},
   "source": [
    "* Процентное соотношение мужчин и женщин"
   ]
  },
  {
   "cell_type": "code",
   "execution_count": 331,
   "metadata": {},
   "outputs": [
    {
     "data": {
      "text/plain": [
       "([<matplotlib.patches.Wedge at 0x127122e10>,\n",
       "  <matplotlib.patches.Wedge at 0x12712d860>,\n",
       "  <matplotlib.patches.Wedge at 0x127136320>],\n",
       " [Text(-0.963604,0.530535,'female'),\n",
       "  Text(0.963271,-0.53114,'male'),\n",
       "  Text(1.1,-0.000691174,'unknown')],\n",
       " [Text(-0.525602,0.289383,'84.0%'),\n",
       "  Text(0.52542,-0.289713,'16.0%'),\n",
       "  Text(0.6,-0.000377004,'0.0%')])"
      ]
     },
     "execution_count": 331,
     "metadata": {},
     "output_type": "execute_result"
    },
    {
     "data": {
      "image/png": "[encoded data removed]",
      "text/plain": [
       "<matplotlib.figure.Figure at 0x127941f28>"
      ]
     },
     "metadata": {},
     "output_type": "display_data"
    }
   ],
   "source": [
    "# Поменяем цифровые значения пола в текстовый вид\n",
    "for n, v in enumerate(('unknown', 'female', 'male')):\n",
    "    df.loc[df['sex'] == n, 'sex'] = v\n",
    "\n",
    "df2 = df['sex'].value_counts()\n",
    "\n",
    "plt.subplot()\n",
    "plt.pie(df2, autopct='%1.1f%%', labels=df2.index, shadow=True)"
   ]
  },
  {
   "cell_type": "markdown",
   "metadata": {},
   "source": [
    "* Распределение по возрасту"
   ]
  },
  {
   "cell_type": "code",
   "execution_count": 332,
   "metadata": {},
   "outputs": [
    {
     "name": "stderr",
     "output_type": "stream",
     "text": [
      "/Users/andrejpopov/anaconda3/lib/python3.6/site-packages/pandas/plotting/_core.py:1716: UserWarning: Pandas doesn't allow columns to be created via a new attribute name - see https://pandas.pydata.org/pandas-docs/stable/indexing.html#attribute-access\n",
      "  series.name = label\n"
     ]
    },
    {
     "data": {
      "text/plain": [
       "Text(0,0.5,'count')"
      ]
     },
     "execution_count": 332,
     "metadata": {},
     "output_type": "execute_result"
    },
    {
     "data": {
      "image/png": "[encoded data removed]",
      "text/plain": [
       "<matplotlib.figure.Figure at 0x12715eba8>"
      ]
     },
     "metadata": {},
     "output_type": "display_data"
    }
   ],
   "source": [
    "from datetime import date\n",
    "\n",
    "# Преобразуем даты рождения (у тех, у кого они есть) в возрасты\n",
    "ages = []\n",
    "for d in df['bdate']:\n",
    "    if isinstance(d, str):\n",
    "        bdate = d.split('.')\n",
    "        if len(bdate) == 3:\n",
    "            bdate = date(int(bdate[-1]), int(bdate[-2]), int(bdate[-3]))\n",
    "            today = date.today()\n",
    "            age = today.year - bdate.year\n",
    "            if today.month < bdate.month:\n",
    "                age -= 1\n",
    "            elif today.month == bdate.month and today.day < bdate.day:\n",
    "                age -= 1\n",
    "            ages.append(age)\n",
    "                \n",
    "ages = sorted(ages)\n",
    "uniq_ages = set(ages)\n",
    "ages_dict = {}\n",
    "\n",
    "for age in uniq_ages:\n",
    "    ages_dict[age] = ages.count(age)\n",
    "\n",
    "df3 = pd.DataFrame(ages_dict, index=['count'])\n",
    "df3.T.plot.bar(x=df3.columns, y=df3.index, figsize=(20, 10), rot=0, title='Распределение по возрасту')\n",
    "plt.xlabel('age')\n",
    "plt.ylabel('count')"
   ]
  },
  {
   "cell_type": "markdown",
   "metadata": {},
   "source": [
    "* Процентное соотношение онлайн и оффлайн"
   ]
  },
  {
   "cell_type": "code",
   "execution_count": 333,
   "metadata": {},
   "outputs": [
    {
     "data": {
      "text/plain": [
       "([<matplotlib.patches.Wedge at 0x128d380f0>,\n",
       "  <matplotlib.patches.Wedge at 0x128d38b00>],\n",
       " [Text(-1.06747,0.265518,'offline'), Text(1.06747,-0.265518,'online')],\n",
       " [Text(-0.582258,0.144828,'92.2%'), Text(0.582258,-0.144828,'7.8%')])"
      ]
     },
     "execution_count": 333,
     "metadata": {},
     "output_type": "execute_result"
    },
    {
     "data": {
      "image/png": "[encoded data removed]",
      "text/plain": [
       "<matplotlib.figure.Figure at 0x127136f28>"
      ]
     },
     "metadata": {},
     "output_type": "display_data"
    }
   ],
   "source": [
    "online = len(df[df['online'] == 1])\n",
    "offline = len(df[df['online'] == 0])\n",
    "df4 = pd.DataFrame({'online': online, 'offline': offline}, index=['count'])\n",
    "\n",
    "plt.subplot()\n",
    "plt.pie(df4.T, autopct='%1.1f%%', labels=['offline', 'online'], shadow=True)"
   ]
  },
  {
   "cell_type": "markdown",
   "metadata": {},
   "source": [
    "* Процентное соотношение женатых (замужних) и не женатых (не замужних)"
   ]
  },
  {
   "cell_type": "code",
   "execution_count": 334,
   "metadata": {},
   "outputs": [
    {
     "data": {
      "text/plain": [
       "([<matplotlib.patches.Wedge at 0x128e99ba8>,\n",
       "  <matplotlib.patches.Wedge at 0x128ea15f8>],\n",
       " [Text(1.04638,0.339261,'married'), Text(-1.04638,-0.339261,'single')],\n",
       " [Text(0.57075,0.185052,'10.0%'), Text(-0.57075,-0.185052,'90.0%')])"
      ]
     },
     "execution_count": 334,
     "metadata": {},
     "output_type": "execute_result"
    },
    {
     "data": {
      "image/png": "[encoded data removed]",
      "text/plain": [
       "<matplotlib.figure.Figure at 0x127249630>"
      ]
     },
     "metadata": {},
     "output_type": "display_data"
    }
   ],
   "source": [
    "married = len(df[df['relation'] == 4])\n",
    "single = len(df[df['relation'] != 4])\n",
    "df5 = pd.DataFrame({'married': married, 'single': single}, index=['count'])\n",
    "\n",
    "plt.subplot()\n",
    "plt.pie(df5.T, autopct='%1.1f%%', labels=['married', 'single'], shadow=True)"
   ]
  },
  {
   "cell_type": "markdown",
   "metadata": {},
   "source": [
    "* Распределение по странам"
   ]
  },
  {
   "cell_type": "code",
   "execution_count": 335,
   "metadata": {},
   "outputs": [
    {
     "name": "stderr",
     "output_type": "stream",
     "text": [
      "/Users/andrejpopov/anaconda3/lib/python3.6/site-packages/ipykernel_launcher.py:16: SettingWithCopyWarning: \n",
      "A value is trying to be set on a copy of a slice from a DataFrame.\n",
      "Try using .loc[row_indexer,col_indexer] = value instead\n",
      "\n",
      "See the caveats in the documentation: http://pandas.pydata.org/pandas-docs/stable/indexing.html#indexing-view-versus-copy\n",
      "  app.launch_new_instance()\n"
     ]
    },
    {
     "data": {
      "text/plain": [
       "<matplotlib.axes._subplots.AxesSubplot at 0x128c54710>"
      ]
     },
     "execution_count": 335,
     "metadata": {},
     "output_type": "execute_result"
    },
    {
     "data": {
      "image/png": "[encoded data removed]",
      "text/plain": [
       "<matplotlib.figure.Figure at 0x128c862b0>"
      ]
     },
     "metadata": {},
     "output_type": "display_data"
    }
   ],
   "source": [
    "# Необходимо поменять в датафрейме буквенные значения стран в названия\n",
    "# Для этого достанем список стран с их id и названием с помощью VK API\n",
    "\n",
    "import vk\n",
    "\n",
    "session = vk.Session()\n",
    "vk_api = vk.API(session, timeout=10)\n",
    "countries = vk_api.database.getCountries(v='5.0', need_all=1, count=1000)\n",
    "\n",
    "for country in countries['items']:\n",
    "    country_id = country['id']\n",
    "    df.loc[df['country'] == country_id, 'country'] = country['title']\n",
    "\n",
    "df6 = df.dropna(subset=['country'], how='all', inplace = True)\n",
    "df6 = df[df['country'] != 0]\n",
    "df6['count'] = 1\n",
    "df6.groupby('country', as_index=False).count().plot.bar(x='country', y='count', figsize=(20, 5), grid=True)"
   ]
  }
 ],
 "metadata": {
  "kernelspec": {
   "display_name": "Python 3",
   "language": "python",
   "name": "python3"
  },
  "language_info": {
   "codemirror_mode": {
    "name": "ipython",
    "version": 3
   },
   "file_extension": ".py",
   "mimetype": "text/x-python",
   "name": "python",
   "nbconvert_exporter": "python",
   "pygments_lexer": "ipython3",
   "version": "3.6.4"
  }
 },
 "nbformat": 4,
 "nbformat_minor": 2
}
