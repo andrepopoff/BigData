{
 "cells": [
  {
   "cell_type": "markdown",
   "metadata": {
    "collapsed": true
   },
   "source": [
    "## Сгруппируйте данные по полу и году и визуализируйте общую динамику рождаемости обоих полов"
   ]
  },
  {
   "cell_type": "code",
   "execution_count": 2,
   "metadata": {},
   "outputs": [
    {
     "data": {
      "text/plain": [
       "array([<matplotlib.axes._subplots.AxesSubplot object at 0x114c2e4a8>],\n",
       "      dtype=object)"
      ]
     },
     "execution_count": 2,
     "metadata": {},
     "output_type": "execute_result"
    }
   ],
   "source": [
    "import pandas as pd\n",
    "from os.path import join\n",
    "\n",
    "directory = 'babynames'\n",
    "df = pd.DataFrame()\n",
    "\n",
    "for i in range(1880, 2011):\n",
    "    file = 'yob{}.txt'.format(i)\n",
    "    new_df = pd.read_csv(join(directory, file), names=['name', 'sex', 'numbers', 'year'])\n",
    "    new_df['year'] = i\n",
    "    df = new_df if df.empty else df.append(new_df)\n",
    "\n",
    "p = df.groupby(['year', 'sex']).sum().plot(subplots=True, sharey=True, legend=True)\n",
    "p"
   ]
  }
 ],
 "metadata": {
  "kernelspec": {
   "display_name": "Python 3",
   "language": "python",
   "name": "python3"
  },
  "language_info": {
   "codemirror_mode": {
    "name": "ipython",
    "version": 3
   },
   "file_extension": ".py",
   "mimetype": "text/x-python",
   "name": "python",
   "nbconvert_exporter": "python",
   "pygments_lexer": "ipython3",
   "version": "3.6.4"
  }
 },
 "nbformat": 4,
 "nbformat_minor": 1
}
