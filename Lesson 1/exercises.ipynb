{
 "cells": [
  {
   "cell_type": "markdown",
   "metadata": {},
   "source": [
    "## Numpy"
   ]
  },
  {
   "cell_type": "markdown",
   "metadata": {},
   "source": [
    "Импортировать NumPy под именем np"
   ]
  },
  {
   "cell_type": "code",
   "execution_count": 2,
   "metadata": {},
   "outputs": [],
   "source": [
    "import numpy as np"
   ]
  },
  {
   "cell_type": "markdown",
   "metadata": {},
   "source": [
    "Создать вектор (одномерный массив) размера 10, заполненный нулями"
   ]
  },
  {
   "cell_type": "code",
   "execution_count": 37,
   "metadata": {},
   "outputs": [
    {
     "data": {
      "text/plain": [
       "array([0., 0., 0., 0., 0., 0., 0., 0., 0., 0.])"
      ]
     },
     "execution_count": 37,
     "metadata": {},
     "output_type": "execute_result"
    }
   ],
   "source": [
    "np.zeros(10)"
   ]
  },
  {
   "cell_type": "markdown",
   "metadata": {},
   "source": [
    "Создать вектор размера 10, заполненный единицами"
   ]
  },
  {
   "cell_type": "code",
   "execution_count": 36,
   "metadata": {},
   "outputs": [
    {
     "data": {
      "text/plain": [
       "array([1., 1., 1., 1., 1., 1., 1., 1., 1., 1.])"
      ]
     },
     "execution_count": 36,
     "metadata": {},
     "output_type": "execute_result"
    }
   ],
   "source": [
    "np.ones(10)"
   ]
  },
  {
   "cell_type": "markdown",
   "metadata": {},
   "source": [
    "Создать вектор размера 10, заполненный числом 2.5"
   ]
  },
  {
   "cell_type": "code",
   "execution_count": 35,
   "metadata": {},
   "outputs": [
    {
     "data": {
      "text/plain": [
       "array([2.5, 2.5, 2.5, 2.5, 2.5, 2.5, 2.5, 2.5, 2.5, 2.5])"
      ]
     },
     "execution_count": 35,
     "metadata": {},
     "output_type": "execute_result"
    }
   ],
   "source": [
    "np.full(10, 2.5)"
   ]
  },
  {
   "cell_type": "markdown",
   "metadata": {},
   "source": [
    "Создать вектор размера 10, заполненный нулями, но пятый элемент равен 1"
   ]
  },
  {
   "cell_type": "code",
   "execution_count": 33,
   "metadata": {},
   "outputs": [
    {
     "name": "stdout",
     "output_type": "stream",
     "text": [
      "[0. 0. 0. 0. 1. 0. 0. 0. 0. 0.]\n"
     ]
    }
   ],
   "source": [
    "v = np.zeros(10)\n",
    "v[4] = 1\n",
    "print(v)"
   ]
  },
  {
   "cell_type": "markdown",
   "metadata": {},
   "source": [
    "Развернуть вектор (первый становится последним)"
   ]
  },
  {
   "cell_type": "code",
   "execution_count": 34,
   "metadata": {},
   "outputs": [
    {
     "data": {
      "text/plain": [
       "array([0., 0., 0., 0., 0., 1., 0., 0., 0., 0.])"
      ]
     },
     "execution_count": 34,
     "metadata": {},
     "output_type": "execute_result"
    }
   ],
   "source": [
    "v[::-1]"
   ]
  },
  {
   "cell_type": "markdown",
   "metadata": {},
   "source": [
    "Создать матрицу (двумерный массив) 3x3 со значениями от 0 до 8"
   ]
  },
  {
   "cell_type": "code",
   "execution_count": 32,
   "metadata": {},
   "outputs": [
    {
     "data": {
      "text/plain": [
       "array([[0, 1, 2],\n",
       "       [3, 4, 5],\n",
       "       [6, 7, 8]])"
      ]
     },
     "execution_count": 32,
     "metadata": {},
     "output_type": "execute_result"
    }
   ],
   "source": [
    "np.arange(9).reshape(3, 3)"
   ]
  },
  {
   "cell_type": "markdown",
   "metadata": {},
   "source": [
    "Найти индексы ненулевых элементов в [1,2,0,0,4,0]"
   ]
  },
  {
   "cell_type": "code",
   "execution_count": 31,
   "metadata": {},
   "outputs": [
    {
     "data": {
      "text/plain": [
       "array([0, 1, 4])"
      ]
     },
     "execution_count": 31,
     "metadata": {},
     "output_type": "execute_result"
    }
   ],
   "source": [
    "np.nonzero([1, 2, 0, 0, 4, 0])[0]"
   ]
  },
  {
   "cell_type": "markdown",
   "metadata": {},
   "source": [
    "Создать 3x3 единичную матрицу"
   ]
  },
  {
   "cell_type": "code",
   "execution_count": 20,
   "metadata": {},
   "outputs": [
    {
     "data": {
      "text/plain": [
       "array([[1., 0., 0.],\n",
       "       [0., 1., 0.],\n",
       "       [0., 0., 1.]])"
      ]
     },
     "execution_count": 20,
     "metadata": {},
     "output_type": "execute_result"
    }
   ],
   "source": [
    "np.eye(3)"
   ]
  },
  {
   "cell_type": "markdown",
   "metadata": {},
   "source": [
    "Создать массив 3x3x3 со случайными значениями"
   ]
  },
  {
   "cell_type": "code",
   "execution_count": 24,
   "metadata": {},
   "outputs": [
    {
     "data": {
      "text/plain": [
       "array([[[10.73709638, 13.78696806, 98.84834796],\n",
       "        [34.86037609, 15.03844092,  0.83060509],\n",
       "        [28.14281863, 79.46781567, 63.04848089]],\n",
       "\n",
       "       [[24.77296177, 93.71807005,  9.24400906],\n",
       "        [27.61283877,  7.73064014, 85.87059824],\n",
       "        [62.28635578, 51.40237054, 38.81758704]],\n",
       "\n",
       "       [[23.40470707, 55.14757329, 67.0463596 ],\n",
       "        [26.87483895, 66.81323179, 21.1892175 ],\n",
       "        [58.68466071, 78.5983801 , 88.09493696]]])"
      ]
     },
     "execution_count": 24,
     "metadata": {},
     "output_type": "execute_result"
    }
   ],
   "source": [
    "np.random.random((3, 3, 3)) * 100"
   ]
  },
  {
   "cell_type": "markdown",
   "metadata": {},
   "source": [
    "Создать случайный вектор размера 30 и найти среднее значение всех элементов"
   ]
  },
  {
   "cell_type": "code",
   "execution_count": 39,
   "metadata": {},
   "outputs": [
    {
     "data": {
      "text/plain": [
       "0.4488355480190385"
      ]
     },
     "execution_count": 39,
     "metadata": {},
     "output_type": "execute_result"
    }
   ],
   "source": [
    "np.random.random(30).mean()"
   ]
  },
  {
   "cell_type": "markdown",
   "metadata": {},
   "source": [
    "Перемножить матрицы 5x3 и 3x2"
   ]
  },
  {
   "cell_type": "code",
   "execution_count": 27,
   "metadata": {},
   "outputs": [
    {
     "data": {
      "text/plain": [
       "array([[ 77.08899793,  13.18146501],\n",
       "       [156.12008325,  33.03908746],\n",
       "       [ 63.92734776,  22.6114826 ],\n",
       "       [111.65592796,  17.49732822],\n",
       "       [ 44.2389717 ,  14.24966649]])"
      ]
     },
     "execution_count": 27,
     "metadata": {},
     "output_type": "execute_result"
    }
   ],
   "source": [
    "m1 = np.random.random((5, 3)) * 100\n",
    "m2 = np.random.random((3, 2))\n",
    "m1.dot(m2)"
   ]
  },
  {
   "cell_type": "markdown",
   "metadata": {},
   "source": [
    "Создать вектор размера 10 со значениями от 0 до 1, не включая ни то, ни другое"
   ]
  },
  {
   "cell_type": "code",
   "execution_count": 41,
   "metadata": {},
   "outputs": [
    {
     "data": {
      "text/plain": [
       "array([0.09090909, 0.18181818, 0.27272727, 0.36363636, 0.45454545,\n",
       "       0.54545455, 0.63636364, 0.72727273, 0.81818182, 0.90909091])"
      ]
     },
     "execution_count": 41,
     "metadata": {},
     "output_type": "execute_result"
    }
   ],
   "source": [
    "np.linspace(0, 1, 11, endpoint=False)[1:]"
   ]
  },
  {
   "cell_type": "markdown",
   "metadata": {},
   "source": [
    "Заменить максимальный элемент на ноль"
   ]
  },
  {
   "cell_type": "code",
   "execution_count": 42,
   "metadata": {},
   "outputs": [
    {
     "name": "stdout",
     "output_type": "stream",
     "text": [
      "[0.10151585 0.91626175 0.69797156 0.45375951 0.72778564 0.66914751\n",
      " 0.04339937 0.05210761 0.95195178 0.98715893 0.18384402 0.\n",
      " 0.53348637 0.07268879 0.87340737 0.76316785 0.68496269 0.8990192\n",
      " 0.36300479 0.52477124 0.88778274 0.85297538 0.73951829 0.16470799\n",
      " 0.14205226 0.24261898 0.38527344 0.71863577 0.11762149 0.30904145]\n"
     ]
    }
   ],
   "source": [
    "m = np.random.random(30)\n",
    "m[m.argmax()] = 0\n",
    "print(m)"
   ]
  },
  {
   "cell_type": "markdown",
   "metadata": {},
   "source": [
    "Преобразовать массив из float в int"
   ]
  },
  {
   "cell_type": "code",
   "execution_count": 49,
   "metadata": {},
   "outputs": [
    {
     "data": {
      "text/plain": [
       "array([0, 0, 0, 0, 0, 0, 0, 0, 0, 0, 0, 0, 0, 0, 0, 0, 0, 0, 0, 0, 0, 0,\n",
       "       0, 0, 0, 0, 0, 0, 0, 0], dtype=int32)"
      ]
     },
     "execution_count": 49,
     "metadata": {},
     "output_type": "execute_result"
    }
   ],
   "source": [
    "m.astype(np.int32)"
   ]
  },
  {
   "cell_type": "markdown",
   "metadata": {},
   "source": [
    "Дан массив (10,2) координат, найти расстояние от каждой точки до каждой"
   ]
  },
  {
   "cell_type": "code",
   "execution_count": 50,
   "metadata": {},
   "outputs": [
    {
     "data": {
      "text/plain": [
       "array([[0.        , 0.91822594, 0.59197294, 0.19014183, 0.69520077,\n",
       "        0.52887081, 0.6496702 , 0.2254342 , 0.12846289, 0.39786301],\n",
       "       [0.91822594, 0.        , 0.34413858, 0.82530158, 0.29250046,\n",
       "        0.39494961, 0.4055899 , 0.89689919, 0.94753086, 0.54824572],\n",
       "       [0.59197294, 0.34413858, 0.        , 0.48247629, 0.11788451,\n",
       "        0.06985739, 0.16357777, 0.61867992, 0.6074893 , 0.28564266],\n",
       "       [0.19014183, 0.82530158, 0.48247629, 0.        , 0.56783119,\n",
       "        0.43186926, 0.50038591, 0.3812719 , 0.13209734, 0.38379228],\n",
       "       [0.69520077, 0.29250046, 0.11788451, 0.56783119, 0.        ,\n",
       "        0.18735542, 0.11585104, 0.73499621, 0.69745267, 0.40327652],\n",
       "       [0.52887081, 0.39494961, 0.06985739, 0.43186926, 0.18735542,\n",
       "        0.        , 0.2132871 , 0.54890346, 0.55259647, 0.2178129 ],\n",
       "       [0.6496702 , 0.4055899 , 0.16357777, 0.50038591, 0.11585104,\n",
       "        0.2132871 , 0.        , 0.72442547, 0.63240685, 0.42339442],\n",
       "       [0.2254342 , 0.89689919, 0.61867992, 0.3812719 , 0.73499621,\n",
       "        0.54890346, 0.72442547, 0.        , 0.35377125, 0.34985638],\n",
       "       [0.12846289, 0.94753086, 0.6074893 , 0.13209734, 0.69745267,\n",
       "        0.55259647, 0.63240685, 0.35377125, 0.        , 0.46816281],\n",
       "       [0.39786301, 0.54824572, 0.28564266, 0.38379228, 0.40327652,\n",
       "        0.2178129 , 0.42339442, 0.34985638, 0.46816281, 0.        ]])"
      ]
     },
     "execution_count": 50,
     "metadata": {},
     "output_type": "execute_result"
    }
   ],
   "source": [
    "import scipy.spatial\n",
    "\n",
    "m = np.random.random((10, 2))\n",
    "scipy.spatial.distance.cdist(m, m)"
   ]
  },
  {
   "cell_type": "markdown",
   "metadata": {},
   "source": [
    "Случайно расположить p элементов в 2D массив"
   ]
  },
  {
   "cell_type": "code",
   "execution_count": 51,
   "metadata": {},
   "outputs": [
    {
     "name": "stdout",
     "output_type": "stream",
     "text": [
      "[[  0.86727117   0.49141937   0.69159561   0.77021077   0.21417971\n",
      "    0.73308586   0.86983694   0.45485372 100.         100.        ]\n",
      " [100.           0.59780317   0.14604221   0.74170075   0.98015114\n",
      "    0.61429994   0.96679092 100.           0.62068057   0.19306979]]\n"
     ]
    }
   ],
   "source": [
    "p = 4\n",
    "m = np.random.random((2, 10))\n",
    "m.put(np.random.choice(range(2 * 10), p, replace=False), 100)\n",
    "print(m)"
   ]
  },
  {
   "cell_type": "markdown",
   "metadata": {},
   "source": [
    "Дан вектор [1, 2, 3, 4, 5], построить новый вектор с тремя нулями между каждым значением"
   ]
  },
  {
   "cell_type": "code",
   "execution_count": 52,
   "metadata": {},
   "outputs": [
    {
     "name": "stdout",
     "output_type": "stream",
     "text": [
      "[1. 0. 0. 0. 2. 0. 0. 0. 3. 0. 0. 0. 4. 0. 0. 0. 5.]\n"
     ]
    }
   ],
   "source": [
    "m = np.arange(1, 6)\n",
    "n = 3\n",
    "z = np.zeros(len(m) + (len(m) - 1) * n)\n",
    "z[::n + 1] = m\n",
    "print(z)"
   ]
  },
  {
   "cell_type": "markdown",
   "metadata": {},
   "source": [
    "Найти наиболее частое значение в массиве"
   ]
  },
  {
   "cell_type": "code",
   "execution_count": 53,
   "metadata": {},
   "outputs": [
    {
     "data": {
      "text/plain": [
       "3"
      ]
     },
     "execution_count": 53,
     "metadata": {},
     "output_type": "execute_result"
    }
   ],
   "source": [
    "m = np.array([1, 2, 2, 3, 3, 3, 4, 4])\n",
    "np.bincount(m).argmax()"
   ]
  },
  {
   "cell_type": "markdown",
   "metadata": {},
   "source": [
    "Найти n наибольших значений в массиве"
   ]
  },
  {
   "cell_type": "code",
   "execution_count": 54,
   "metadata": {},
   "outputs": [
    {
     "name": "stdout",
     "output_type": "stream",
     "text": [
      "[4 4]\n"
     ]
    }
   ],
   "source": [
    "m = np.array([2, 1, 2, 4, 3, 3, 4, 3])\n",
    "n = 2\n",
    "m.sort()\n",
    "print(m[-n:])"
   ]
  },
  {
   "cell_type": "markdown",
   "metadata": {},
   "source": [
    "## Pandas - изучение данных"
   ]
  },
  {
   "cell_type": "markdown",
   "metadata": {
    "collapsed": true
   },
   "source": [
    "Перейти по ссылке [Kaggle]( https://www.kaggle.com/openfoodfacts/world-food-facts)"
   ]
  },
  {
   "cell_type": "markdown",
   "metadata": {
    "collapsed": true
   },
   "source": [
    "Скачать датасет на свой компьютер и распаковать"
   ]
  },
  {
   "cell_type": "markdown",
   "metadata": {
    "collapsed": true
   },
   "source": [
    "Считать csv файл в датафрейм food"
   ]
  },
  {
   "cell_type": "code",
   "execution_count": null,
   "metadata": {
    "collapsed": true
   },
   "outputs": [],
   "source": [
    ""
   ]
  },
  {
   "cell_type": "markdown",
   "metadata": {
    "collapsed": true
   },
   "source": [
    "Посмотреть первые 5 записей"
   ]
  },
  {
   "cell_type": "code",
   "execution_count": null,
   "metadata": {
    "collapsed": true
   },
   "outputs": [],
   "source": [
    ""
   ]
  },
  {
   "cell_type": "markdown",
   "metadata": {
    "collapsed": true
   },
   "source": [
    "Сколько наблюдений в наборе данных?\n"
   ]
  },
  {
   "cell_type": "code",
   "execution_count": null,
   "metadata": {
    "collapsed": true
   },
   "outputs": [],
   "source": [
    ""
   ]
  },
  {
   "cell_type": "markdown",
   "metadata": {
    "collapsed": true
   },
   "source": [
    "Сколько столбцов в наборе данных?"
   ]
  },
  {
   "cell_type": "code",
   "execution_count": null,
   "metadata": {
    "collapsed": true
   },
   "outputs": [],
   "source": [
    ""
   ]
  },
  {
   "cell_type": "markdown",
   "metadata": {
    "collapsed": true
   },
   "source": [
    "Напечатайте все названия столбцов"
   ]
  },
  {
   "cell_type": "code",
   "execution_count": null,
   "metadata": {
    "collapsed": true
   },
   "outputs": [],
   "source": [
    ""
   ]
  },
  {
   "cell_type": "markdown",
   "metadata": {
    "collapsed": true
   },
   "source": [
    "Какое название у 105 столбца?"
   ]
  },
  {
   "cell_type": "code",
   "execution_count": null,
   "metadata": {
    "collapsed": true
   },
   "outputs": [],
   "source": [
    ""
   ]
  },
  {
   "cell_type": "markdown",
   "metadata": {},
   "source": [
    "Какой тип наблюдений в 105 столбце?"
   ]
  },
  {
   "cell_type": "code",
   "execution_count": null,
   "metadata": {
    "collapsed": true
   },
   "outputs": [],
   "source": [
    ""
   ]
  },
  {
   "cell_type": "markdown",
   "metadata": {},
   "source": [
    "Как проиндексирован набор данных?"
   ]
  },
  {
   "cell_type": "code",
   "execution_count": null,
   "metadata": {
    "collapsed": true
   },
   "outputs": [],
   "source": [
    ""
   ]
  },
  {
   "cell_type": "markdown",
   "metadata": {},
   "source": [
    "Каково значение имени продукта в 19-м наблюдении?"
   ]
  },
  {
   "cell_type": "code",
   "execution_count": null,
   "metadata": {
    "collapsed": true
   },
   "outputs": [],
   "source": [
    ""
   ]
  },
  {
   "cell_type": "markdown",
   "metadata": {},
   "source": [
    "## Pandas - фильтрация данных"
   ]
  },
  {
   "cell_type": "markdown",
   "metadata": {},
   "source": [
    "Считать данные по  [адресу](https://raw.githubusercontent.com/justmarkham/DAT8/master/data/chipotle.tsv). \n",
    "Присвоить переменной chipo"
   ]
  },
  {
   "cell_type": "code",
   "execution_count": null,
   "metadata": {
    "collapsed": true
   },
   "outputs": [],
   "source": [
    ""
   ]
  },
  {
   "cell_type": "markdown",
   "metadata": {},
   "source": [
    "Как много продуктов стоят более чем $10.00?"
   ]
  },
  {
   "cell_type": "code",
   "execution_count": null,
   "metadata": {
    "collapsed": true
   },
   "outputs": [],
   "source": [
    ""
   ]
  },
  {
   "cell_type": "markdown",
   "metadata": {},
   "source": [
    "Какова цена каждого предмета? Напечатать столбцы item_name и item_price"
   ]
  },
  {
   "cell_type": "code",
   "execution_count": null,
   "metadata": {
    "collapsed": true
   },
   "outputs": [],
   "source": [
    ""
   ]
  },
  {
   "cell_type": "markdown",
   "metadata": {},
   "source": [
    "Отсортировать по имени предмета"
   ]
  },
  {
   "cell_type": "code",
   "execution_count": null,
   "metadata": {
    "collapsed": true
   },
   "outputs": [],
   "source": [
    ""
   ]
  },
  {
   "cell_type": "markdown",
   "metadata": {},
   "source": [
    "Сколько было заказано самого дорогого предмета?"
   ]
  },
  {
   "cell_type": "code",
   "execution_count": null,
   "metadata": {
    "collapsed": true
   },
   "outputs": [],
   "source": [
    ""
   ]
  },
  {
   "cell_type": "markdown",
   "metadata": {},
   "source": [
    "Сколько раз был заказан предмет \"Veggie Salad Bowl\"?"
   ]
  },
  {
   "cell_type": "code",
   "execution_count": null,
   "metadata": {
    "collapsed": true
   },
   "outputs": [],
   "source": [
    ""
   ]
  },
  {
   "cell_type": "markdown",
   "metadata": {},
   "source": [
    "Сколько раз люди заказали более чем 1 предмет \"Canned Soda\"?"
   ]
  },
  {
   "cell_type": "code",
   "execution_count": null,
   "metadata": {
    "collapsed": true
   },
   "outputs": [],
   "source": [
    ""
   ]
  }
 ],
 "metadata": {
  "kernelspec": {
   "display_name": "Python 3",
   "language": "python",
   "name": "python3"
  },
  "language_info": {
   "codemirror_mode": {
    "name": "ipython",
    "version": 3.0
   },
   "file_extension": ".py",
   "mimetype": "text/x-python",
   "name": "python",
   "nbconvert_exporter": "python",
   "pygments_lexer": "ipython3",
   "version": "3.6.4"
  }
 },
 "nbformat": 4,
 "nbformat_minor": 0
}